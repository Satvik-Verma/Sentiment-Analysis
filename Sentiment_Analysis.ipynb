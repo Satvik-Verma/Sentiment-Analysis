{
  "nbformat": 4,
  "nbformat_minor": 0,
  "metadata": {
    "colab": {
      "name": "Sentiment Analysis.ipynb",
      "provenance": [],
      "collapsed_sections": []
    },
    "kernelspec": {
      "display_name": "Python 3",
      "name": "python3"
    },
    "language_info": {
      "name": "python"
    }
  },
  "cells": [
    {
      "cell_type": "code",
      "metadata": {
        "id": "EesQyMw1n9VO"
      },
      "source": [
        "import pandas as pd\n",
        "import numpy as np"
      ],
      "execution_count": null,
      "outputs": []
    },
    {
      "cell_type": "code",
      "metadata": {
        "id": "PKxK6TTYY87m"
      },
      "source": [
        "dataset = pd.read_excel(r'/content/drive/MyDrive/Relatas/sales-pipeline.xlsx')"
      ],
      "execution_count": null,
      "outputs": []
    },
    {
      "cell_type": "markdown",
      "metadata": {
        "id": "QgrKLzkROmo8"
      },
      "source": [
        "Reading the first dataset"
      ]
    },
    {
      "cell_type": "code",
      "metadata": {
        "colab": {
          "base_uri": "https://localhost:8080/",
          "height": 365
        },
        "id": "t-liVSG-etOk",
        "outputId": "ccd238eb-421a-496e-ce26-6febf1f0cf7b"
      },
      "source": [
        "dataset.head()"
      ],
      "execution_count": null,
      "outputs": [
        {
          "output_type": "execute_result",
          "data": {
            "text/html": [
              "<div>\n",
              "<style scoped>\n",
              "    .dataframe tbody tr th:only-of-type {\n",
              "        vertical-align: middle;\n",
              "    }\n",
              "\n",
              "    .dataframe tbody tr th {\n",
              "        vertical-align: top;\n",
              "    }\n",
              "\n",
              "    .dataframe thead th {\n",
              "        text-align: right;\n",
              "    }\n",
              "</style>\n",
              "<table border=\"1\" class=\"dataframe\">\n",
              "  <thead>\n",
              "    <tr style=\"text-align: right;\">\n",
              "      <th></th>\n",
              "      <th>Account</th>\n",
              "      <th>Opportunity_ID</th>\n",
              "      <th>Sales_Agent</th>\n",
              "      <th>SalesAgentEmailID</th>\n",
              "      <th>ContactEmailID</th>\n",
              "      <th>Deal_Stage</th>\n",
              "      <th>Product</th>\n",
              "      <th>Close_Value</th>\n",
              "      <th>Created Date</th>\n",
              "      <th>Close Date</th>\n",
              "      <th>DateDiff</th>\n",
              "    </tr>\n",
              "  </thead>\n",
              "  <tbody>\n",
              "    <tr>\n",
              "      <th>0</th>\n",
              "      <td>Konex</td>\n",
              "      <td>3KR50X38</td>\n",
              "      <td>Corliss Cosme</td>\n",
              "      <td>corliss@piedpiper.com</td>\n",
              "      <td>delila@konex.com</td>\n",
              "      <td>Won</td>\n",
              "      <td>GTX Plus Basic</td>\n",
              "      <td>1255</td>\n",
              "      <td>2016-01-04</td>\n",
              "      <td>2016-05-24</td>\n",
              "      <td>141</td>\n",
              "    </tr>\n",
              "    <tr>\n",
              "      <th>1</th>\n",
              "      <td>Finjob</td>\n",
              "      <td>YFS5KLJJ</td>\n",
              "      <td>Rosalina Dieter</td>\n",
              "      <td>rosalina@piedpiper.com</td>\n",
              "      <td>belinda@finjob.com</td>\n",
              "      <td>Won</td>\n",
              "      <td>MG Special</td>\n",
              "      <td>45</td>\n",
              "      <td>2016-01-04</td>\n",
              "      <td>2016-11-02</td>\n",
              "      <td>303</td>\n",
              "    </tr>\n",
              "    <tr>\n",
              "      <th>2</th>\n",
              "      <td>Kinnamplus</td>\n",
              "      <td>N0ONCYVZ</td>\n",
              "      <td>Donn Cantrell</td>\n",
              "      <td>donn@piedpiper.com</td>\n",
              "      <td>monte@kinnamplus.com</td>\n",
              "      <td>Lost</td>\n",
              "      <td>MG Special</td>\n",
              "      <td>1054</td>\n",
              "      <td>2016-01-06</td>\n",
              "      <td>2016-12-07</td>\n",
              "      <td>336</td>\n",
              "    </tr>\n",
              "    <tr>\n",
              "      <th>3</th>\n",
              "      <td>Genco Pura Olive Oil Company</td>\n",
              "      <td>IBEUTCSW</td>\n",
              "      <td>James Ascencio</td>\n",
              "      <td>james@piedpiper.com</td>\n",
              "      <td>karole@gencopuraoliveoilcompany.com</td>\n",
              "      <td>In Progress</td>\n",
              "      <td>MG Advanced</td>\n",
              "      <td>1054</td>\n",
              "      <td>2016-01-06</td>\n",
              "      <td>2016-09-11</td>\n",
              "      <td>249</td>\n",
              "    </tr>\n",
              "    <tr>\n",
              "      <th>4</th>\n",
              "      <td>Initech</td>\n",
              "      <td>G8AO5FA2</td>\n",
              "      <td>Wilburn Farren</td>\n",
              "      <td>wilburn@piedpiper.com</td>\n",
              "      <td>alejandro@initech.com</td>\n",
              "      <td>Lost</td>\n",
              "      <td>MG Advanced</td>\n",
              "      <td>517</td>\n",
              "      <td>2016-01-06</td>\n",
              "      <td>2016-09-18</td>\n",
              "      <td>256</td>\n",
              "    </tr>\n",
              "  </tbody>\n",
              "</table>\n",
              "</div>"
            ],
            "text/plain": [
              "                        Account Opportunity_ID  ... Close Date DateDiff\n",
              "0                         Konex       3KR50X38  ... 2016-05-24      141\n",
              "1                        Finjob       YFS5KLJJ  ... 2016-11-02      303\n",
              "2                    Kinnamplus       N0ONCYVZ  ... 2016-12-07      336\n",
              "3  Genco Pura Olive Oil Company       IBEUTCSW  ... 2016-09-11      249\n",
              "4                       Initech       G8AO5FA2  ... 2016-09-18      256\n",
              "\n",
              "[5 rows x 11 columns]"
            ]
          },
          "metadata": {},
          "execution_count": 3
        }
      ]
    },
    {
      "cell_type": "markdown",
      "metadata": {
        "id": "UzKhjitLOra4"
      },
      "source": [
        "Checking for any empty values"
      ]
    },
    {
      "cell_type": "code",
      "metadata": {
        "colab": {
          "base_uri": "https://localhost:8080/"
        },
        "id": "TiE9tN_jex6H",
        "outputId": "d6ae0956-ff6e-4cc2-ded2-63eb4f1cff70"
      },
      "source": [
        "dataset.isnull().sum()"
      ],
      "execution_count": null,
      "outputs": [
        {
          "output_type": "execute_result",
          "data": {
            "text/plain": [
              "Account              0\n",
              "Opportunity_ID       0\n",
              "Sales_Agent          0\n",
              "SalesAgentEmailID    0\n",
              "ContactEmailID       0\n",
              "Deal_Stage           0\n",
              "Product              0\n",
              "Close_Value          0\n",
              "Created Date         0\n",
              "Close Date           0\n",
              "DateDiff             0\n",
              "dtype: int64"
            ]
          },
          "metadata": {},
          "execution_count": 4
        }
      ]
    },
    {
      "cell_type": "markdown",
      "metadata": {
        "id": "haG9yDDoOwDD"
      },
      "source": [
        "Reading the second dataset"
      ]
    },
    {
      "cell_type": "code",
      "metadata": {
        "id": "UxHQ9Mapfzsy"
      },
      "source": [
        "dataset_extra = pd.read_excel(r'/content/drive/MyDrive/Relatas/interactions.xlsx')"
      ],
      "execution_count": null,
      "outputs": []
    },
    {
      "cell_type": "code",
      "metadata": {
        "colab": {
          "base_uri": "https://localhost:8080/",
          "height": 293
        },
        "id": "VuLAln3m2EJi",
        "outputId": "e6ca8945-36c3-4fa8-ba63-b013e529e28c"
      },
      "source": [
        "dataset_extra.head()"
      ],
      "execution_count": null,
      "outputs": [
        {
          "output_type": "execute_result",
          "data": {
            "text/html": [
              "<div>\n",
              "<style scoped>\n",
              "    .dataframe tbody tr th:only-of-type {\n",
              "        vertical-align: middle;\n",
              "    }\n",
              "\n",
              "    .dataframe tbody tr th {\n",
              "        vertical-align: top;\n",
              "    }\n",
              "\n",
              "    .dataframe thead th {\n",
              "        text-align: right;\n",
              "    }\n",
              "</style>\n",
              "<table border=\"1\" class=\"dataframe\">\n",
              "  <thead>\n",
              "    <tr style=\"text-align: right;\">\n",
              "      <th></th>\n",
              "      <th>interactionID</th>\n",
              "      <th>fromEmailId</th>\n",
              "      <th>toEmailId</th>\n",
              "      <th>InteractionDate</th>\n",
              "      <th>InteractionType(Call/Email/SMS)</th>\n",
              "      <th>Extracted Interaction Text</th>\n",
              "    </tr>\n",
              "  </thead>\n",
              "  <tbody>\n",
              "    <tr>\n",
              "      <th>0</th>\n",
              "      <td>8842411</td>\n",
              "      <td>gladys@piedpiper.com</td>\n",
              "      <td>kristle@dontechi.com</td>\n",
              "      <td>2016-01-04</td>\n",
              "      <td>Call</td>\n",
              "      <td>I thoroughly enjoyed your presentation yesterd...</td>\n",
              "    </tr>\n",
              "    <tr>\n",
              "      <th>1</th>\n",
              "      <td>8015509</td>\n",
              "      <td>donn@piedpiper.com</td>\n",
              "      <td>orpha@umbrellacorporation.com</td>\n",
              "      <td>2016-01-04</td>\n",
              "      <td>Call</td>\n",
              "      <td>speaking with you and your staff will be a tre...</td>\n",
              "    </tr>\n",
              "    <tr>\n",
              "      <th>2</th>\n",
              "      <td>5976842</td>\n",
              "      <td>kary@piedpiper.com</td>\n",
              "      <td>claribel@goodsilron.com</td>\n",
              "      <td>2016-01-04</td>\n",
              "      <td>Email</td>\n",
              "      <td>However, I am unable to join because of my fam...</td>\n",
              "    </tr>\n",
              "    <tr>\n",
              "      <th>3</th>\n",
              "      <td>1471794</td>\n",
              "      <td>boris@piedpiper.com</td>\n",
              "      <td>gordon@scotfind.com</td>\n",
              "      <td>2016-01-04</td>\n",
              "      <td>Call</td>\n",
              "      <td>We are extremely sorry to inform you that we h...</td>\n",
              "    </tr>\n",
              "    <tr>\n",
              "      <th>4</th>\n",
              "      <td>4330320</td>\n",
              "      <td>darcel@piedpiper.com</td>\n",
              "      <td>benny@treequote.com</td>\n",
              "      <td>2016-01-04</td>\n",
              "      <td>Call</td>\n",
              "      <td>I don't think it's possible for me to meet you</td>\n",
              "    </tr>\n",
              "  </tbody>\n",
              "</table>\n",
              "</div>"
            ],
            "text/plain": [
              "   interactionID  ...                         Extracted Interaction Text\n",
              "0        8842411  ...  I thoroughly enjoyed your presentation yesterd...\n",
              "1        8015509  ...  speaking with you and your staff will be a tre...\n",
              "2        5976842  ...  However, I am unable to join because of my fam...\n",
              "3        1471794  ...  We are extremely sorry to inform you that we h...\n",
              "4        4330320  ...     I don't think it's possible for me to meet you\n",
              "\n",
              "[5 rows x 6 columns]"
            ]
          },
          "metadata": {},
          "execution_count": 6
        }
      ]
    },
    {
      "cell_type": "code",
      "metadata": {
        "colab": {
          "base_uri": "https://localhost:8080/"
        },
        "id": "y8mz2Z1A0KpN",
        "outputId": "0ff61d94-73ad-49ef-e851-0900498fa15a"
      },
      "source": [
        "dataset_extra.isnull().sum()"
      ],
      "execution_count": null,
      "outputs": [
        {
          "output_type": "execute_result",
          "data": {
            "text/plain": [
              "interactionID                      0\n",
              "fromEmailId                        0\n",
              "toEmailId                          0\n",
              "InteractionDate                    0\n",
              "InteractionType(Call/Email/SMS)    0\n",
              "Extracted Interaction Text         0\n",
              "dtype: int64"
            ]
          },
          "metadata": {},
          "execution_count": 7
        }
      ]
    },
    {
      "cell_type": "markdown",
      "metadata": {
        "id": "dNF5dsjsO0bX"
      },
      "source": [
        "Selecting relevant columns for the dataframe to be used"
      ]
    },
    {
      "cell_type": "code",
      "metadata": {
        "id": "y7xCTeGx0Rc8"
      },
      "source": [
        "df_extra = dataset_extra[['InteractionDate','Extracted Interaction Text']]"
      ],
      "execution_count": null,
      "outputs": []
    },
    {
      "cell_type": "code",
      "metadata": {
        "colab": {
          "base_uri": "https://localhost:8080/",
          "height": 206
        },
        "id": "5Z-dWcuMGxdW",
        "outputId": "eb5a20e4-171a-4454-8bce-d5eab42ea7f1"
      },
      "source": [
        "df_extra.head()"
      ],
      "execution_count": null,
      "outputs": [
        {
          "output_type": "execute_result",
          "data": {
            "text/html": [
              "<div>\n",
              "<style scoped>\n",
              "    .dataframe tbody tr th:only-of-type {\n",
              "        vertical-align: middle;\n",
              "    }\n",
              "\n",
              "    .dataframe tbody tr th {\n",
              "        vertical-align: top;\n",
              "    }\n",
              "\n",
              "    .dataframe thead th {\n",
              "        text-align: right;\n",
              "    }\n",
              "</style>\n",
              "<table border=\"1\" class=\"dataframe\">\n",
              "  <thead>\n",
              "    <tr style=\"text-align: right;\">\n",
              "      <th></th>\n",
              "      <th>InteractionDate</th>\n",
              "      <th>Extracted Interaction Text</th>\n",
              "    </tr>\n",
              "  </thead>\n",
              "  <tbody>\n",
              "    <tr>\n",
              "      <th>0</th>\n",
              "      <td>2016-01-04</td>\n",
              "      <td>I thoroughly enjoyed your presentation yesterd...</td>\n",
              "    </tr>\n",
              "    <tr>\n",
              "      <th>1</th>\n",
              "      <td>2016-01-04</td>\n",
              "      <td>speaking with you and your staff will be a tre...</td>\n",
              "    </tr>\n",
              "    <tr>\n",
              "      <th>2</th>\n",
              "      <td>2016-01-04</td>\n",
              "      <td>However, I am unable to join because of my fam...</td>\n",
              "    </tr>\n",
              "    <tr>\n",
              "      <th>3</th>\n",
              "      <td>2016-01-04</td>\n",
              "      <td>We are extremely sorry to inform you that we h...</td>\n",
              "    </tr>\n",
              "    <tr>\n",
              "      <th>4</th>\n",
              "      <td>2016-01-04</td>\n",
              "      <td>I don't think it's possible for me to meet you</td>\n",
              "    </tr>\n",
              "  </tbody>\n",
              "</table>\n",
              "</div>"
            ],
            "text/plain": [
              "  InteractionDate                         Extracted Interaction Text\n",
              "0      2016-01-04  I thoroughly enjoyed your presentation yesterd...\n",
              "1      2016-01-04  speaking with you and your staff will be a tre...\n",
              "2      2016-01-04  However, I am unable to join because of my fam...\n",
              "3      2016-01-04  We are extremely sorry to inform you that we h...\n",
              "4      2016-01-04     I don't think it's possible for me to meet you"
            ]
          },
          "metadata": {},
          "execution_count": 26
        }
      ]
    },
    {
      "cell_type": "markdown",
      "metadata": {
        "id": "YxjMQgVWO6cN"
      },
      "source": [
        "Using nltk in order to import Sentiment Intensity Analyser as we'll be using that NLP algorithm in order to convert the Extracted interaction text to a factor influencing the revenue."
      ]
    },
    {
      "cell_type": "code",
      "metadata": {
        "colab": {
          "base_uri": "https://localhost:8080/"
        },
        "id": "i5IlYk9lIEet",
        "outputId": "2fa0f6fe-356c-4514-bb52-b2498eadb34c"
      },
      "source": [
        "import nltk\n",
        "nltk.download('vader_lexicon')\n",
        "from nltk.sentiment.vader import SentimentIntensityAnalyzer"
      ],
      "execution_count": null,
      "outputs": [
        {
          "output_type": "stream",
          "name": "stdout",
          "text": [
            "[nltk_data] Downloading package vader_lexicon to /root/nltk_data...\n"
          ]
        },
        {
          "output_type": "stream",
          "name": "stderr",
          "text": [
            "/usr/local/lib/python3.7/dist-packages/nltk/twitter/__init__.py:20: UserWarning: The twython library has not been installed. Some functionality from the twitter package will not be available.\n",
            "  warnings.warn(\"The twython library has not been installed. \"\n"
          ]
        }
      ]
    },
    {
      "cell_type": "code",
      "metadata": {
        "colab": {
          "base_uri": "https://localhost:8080/"
        },
        "id": "_T0CqvFwI6UZ",
        "outputId": "f5f232e0-73b7-4623-bbf8-655dd9b0f7cc"
      },
      "source": [
        "analyser = SentimentIntensityAnalyzer()\n",
        "df_extra.reset_index(inplace=True, drop=True)\n",
        "df_extra[['neg', 'neu', 'pos', 'compound']] = df_extra['Extracted Interaction Text'].apply(analyser.polarity_scores).apply(pd.Series)"
      ],
      "execution_count": null,
      "outputs": [
        {
          "output_type": "stream",
          "name": "stderr",
          "text": [
            "/usr/local/lib/python3.7/dist-packages/pandas/core/frame.py:3069: SettingWithCopyWarning: \n",
            "A value is trying to be set on a copy of a slice from a DataFrame.\n",
            "Try using .loc[row_indexer,col_indexer] = value instead\n",
            "\n",
            "See the caveats in the documentation: https://pandas.pydata.org/pandas-docs/stable/user_guide/indexing.html#returning-a-view-versus-a-copy\n",
            "  self[k1] = value[k2]\n"
          ]
        }
      ]
    },
    {
      "cell_type": "code",
      "metadata": {
        "colab": {
          "base_uri": "https://localhost:8080/",
          "height": 676
        },
        "id": "9rsv3hKKQkKN",
        "outputId": "83452473-255c-4e16-83ec-108ca85d782f"
      },
      "source": [
        "df_extra.head(20)"
      ],
      "execution_count": null,
      "outputs": [
        {
          "output_type": "execute_result",
          "data": {
            "text/html": [
              "<div>\n",
              "<style scoped>\n",
              "    .dataframe tbody tr th:only-of-type {\n",
              "        vertical-align: middle;\n",
              "    }\n",
              "\n",
              "    .dataframe tbody tr th {\n",
              "        vertical-align: top;\n",
              "    }\n",
              "\n",
              "    .dataframe thead th {\n",
              "        text-align: right;\n",
              "    }\n",
              "</style>\n",
              "<table border=\"1\" class=\"dataframe\">\n",
              "  <thead>\n",
              "    <tr style=\"text-align: right;\">\n",
              "      <th></th>\n",
              "      <th>InteractionDate</th>\n",
              "      <th>Extracted Interaction Text</th>\n",
              "      <th>neg</th>\n",
              "      <th>neu</th>\n",
              "      <th>pos</th>\n",
              "      <th>compound</th>\n",
              "    </tr>\n",
              "  </thead>\n",
              "  <tbody>\n",
              "    <tr>\n",
              "      <th>0</th>\n",
              "      <td>2016-01-04</td>\n",
              "      <td>I thoroughly enjoyed your presentation yesterd...</td>\n",
              "      <td>0.039</td>\n",
              "      <td>0.722</td>\n",
              "      <td>0.238</td>\n",
              "      <td>0.9176</td>\n",
              "    </tr>\n",
              "    <tr>\n",
              "      <th>1</th>\n",
              "      <td>2016-01-04</td>\n",
              "      <td>speaking with you and your staff will be a tre...</td>\n",
              "      <td>0.000</td>\n",
              "      <td>0.837</td>\n",
              "      <td>0.163</td>\n",
              "      <td>0.8126</td>\n",
              "    </tr>\n",
              "    <tr>\n",
              "      <th>2</th>\n",
              "      <td>2016-01-04</td>\n",
              "      <td>However, I am unable to join because of my fam...</td>\n",
              "      <td>0.071</td>\n",
              "      <td>0.756</td>\n",
              "      <td>0.173</td>\n",
              "      <td>0.4287</td>\n",
              "    </tr>\n",
              "    <tr>\n",
              "      <th>3</th>\n",
              "      <td>2016-01-04</td>\n",
              "      <td>We are extremely sorry to inform you that we h...</td>\n",
              "      <td>0.069</td>\n",
              "      <td>0.819</td>\n",
              "      <td>0.112</td>\n",
              "      <td>0.2516</td>\n",
              "    </tr>\n",
              "    <tr>\n",
              "      <th>4</th>\n",
              "      <td>2016-01-04</td>\n",
              "      <td>I don't think it's possible for me to meet you</td>\n",
              "      <td>0.000</td>\n",
              "      <td>1.000</td>\n",
              "      <td>0.000</td>\n",
              "      <td>0.0000</td>\n",
              "    </tr>\n",
              "    <tr>\n",
              "      <th>5</th>\n",
              "      <td>2016-01-04</td>\n",
              "      <td>I have'nt heard from you regarding the status ...</td>\n",
              "      <td>0.172</td>\n",
              "      <td>0.828</td>\n",
              "      <td>0.000</td>\n",
              "      <td>-0.6124</td>\n",
              "    </tr>\n",
              "    <tr>\n",
              "      <th>6</th>\n",
              "      <td>2016-01-04</td>\n",
              "      <td>I am very pleased to accept your invitation to...</td>\n",
              "      <td>0.000</td>\n",
              "      <td>0.758</td>\n",
              "      <td>0.242</td>\n",
              "      <td>0.7233</td>\n",
              "    </tr>\n",
              "    <tr>\n",
              "      <th>7</th>\n",
              "      <td>2016-01-04</td>\n",
              "      <td>Congratulations! Your work group achieved the ...</td>\n",
              "      <td>0.000</td>\n",
              "      <td>0.789</td>\n",
              "      <td>0.211</td>\n",
              "      <td>0.9564</td>\n",
              "    </tr>\n",
              "    <tr>\n",
              "      <th>8</th>\n",
              "      <td>2016-01-04</td>\n",
              "      <td>I am sorry that I will be unable to schedule a...</td>\n",
              "      <td>0.064</td>\n",
              "      <td>0.936</td>\n",
              "      <td>0.000</td>\n",
              "      <td>-0.0772</td>\n",
              "    </tr>\n",
              "    <tr>\n",
              "      <th>9</th>\n",
              "      <td>2016-01-04</td>\n",
              "      <td>Unfortunately we cannot approve the proposal t...</td>\n",
              "      <td>0.179</td>\n",
              "      <td>0.821</td>\n",
              "      <td>0.000</td>\n",
              "      <td>-0.4019</td>\n",
              "    </tr>\n",
              "    <tr>\n",
              "      <th>10</th>\n",
              "      <td>2016-01-04</td>\n",
              "      <td>We are no longer in need of your service</td>\n",
              "      <td>0.216</td>\n",
              "      <td>0.784</td>\n",
              "      <td>0.000</td>\n",
              "      <td>-0.2960</td>\n",
              "    </tr>\n",
              "    <tr>\n",
              "      <th>11</th>\n",
              "      <td>2016-01-04</td>\n",
              "      <td>see how cutting edge technology can empower yo...</td>\n",
              "      <td>0.043</td>\n",
              "      <td>0.652</td>\n",
              "      <td>0.306</td>\n",
              "      <td>0.8516</td>\n",
              "    </tr>\n",
              "    <tr>\n",
              "      <th>12</th>\n",
              "      <td>2016-01-04</td>\n",
              "      <td>I am writing on behalf of ABC Company to let y...</td>\n",
              "      <td>0.000</td>\n",
              "      <td>0.908</td>\n",
              "      <td>0.092</td>\n",
              "      <td>0.6731</td>\n",
              "    </tr>\n",
              "    <tr>\n",
              "      <th>13</th>\n",
              "      <td>2016-01-04</td>\n",
              "      <td>I regret that I must inform you that your posi...</td>\n",
              "      <td>0.174</td>\n",
              "      <td>0.776</td>\n",
              "      <td>0.050</td>\n",
              "      <td>-0.7351</td>\n",
              "    </tr>\n",
              "    <tr>\n",
              "      <th>14</th>\n",
              "      <td>2016-01-04</td>\n",
              "      <td>I am pleased we will be able to discuss the ma...</td>\n",
              "      <td>0.000</td>\n",
              "      <td>0.843</td>\n",
              "      <td>0.157</td>\n",
              "      <td>0.6808</td>\n",
              "    </tr>\n",
              "    <tr>\n",
              "      <th>15</th>\n",
              "      <td>2016-01-04</td>\n",
              "      <td>We are greatly appreciative of all of ZS's har...</td>\n",
              "      <td>0.069</td>\n",
              "      <td>0.739</td>\n",
              "      <td>0.192</td>\n",
              "      <td>0.5413</td>\n",
              "    </tr>\n",
              "    <tr>\n",
              "      <th>16</th>\n",
              "      <td>2016-01-04</td>\n",
              "      <td>I can't meet you</td>\n",
              "      <td>0.000</td>\n",
              "      <td>1.000</td>\n",
              "      <td>0.000</td>\n",
              "      <td>0.0000</td>\n",
              "    </tr>\n",
              "    <tr>\n",
              "      <th>17</th>\n",
              "      <td>2016-01-04</td>\n",
              "      <td>I appreciate your contribution to Morgan Stanl...</td>\n",
              "      <td>0.000</td>\n",
              "      <td>0.673</td>\n",
              "      <td>0.327</td>\n",
              "      <td>0.9118</td>\n",
              "    </tr>\n",
              "    <tr>\n",
              "      <th>18</th>\n",
              "      <td>2016-01-04</td>\n",
              "      <td>We are pleased to inform you that we have acce...</td>\n",
              "      <td>0.000</td>\n",
              "      <td>0.761</td>\n",
              "      <td>0.239</td>\n",
              "      <td>0.9531</td>\n",
              "    </tr>\n",
              "    <tr>\n",
              "      <th>19</th>\n",
              "      <td>2016-01-04</td>\n",
              "      <td>I am pleased to accept your generous offer of ...</td>\n",
              "      <td>0.000</td>\n",
              "      <td>0.766</td>\n",
              "      <td>0.234</td>\n",
              "      <td>0.9100</td>\n",
              "    </tr>\n",
              "  </tbody>\n",
              "</table>\n",
              "</div>"
            ],
            "text/plain": [
              "   InteractionDate  ... compound\n",
              "0       2016-01-04  ...   0.9176\n",
              "1       2016-01-04  ...   0.8126\n",
              "2       2016-01-04  ...   0.4287\n",
              "3       2016-01-04  ...   0.2516\n",
              "4       2016-01-04  ...   0.0000\n",
              "5       2016-01-04  ...  -0.6124\n",
              "6       2016-01-04  ...   0.7233\n",
              "7       2016-01-04  ...   0.9564\n",
              "8       2016-01-04  ...  -0.0772\n",
              "9       2016-01-04  ...  -0.4019\n",
              "10      2016-01-04  ...  -0.2960\n",
              "11      2016-01-04  ...   0.8516\n",
              "12      2016-01-04  ...   0.6731\n",
              "13      2016-01-04  ...  -0.7351\n",
              "14      2016-01-04  ...   0.6808\n",
              "15      2016-01-04  ...   0.5413\n",
              "16      2016-01-04  ...   0.0000\n",
              "17      2016-01-04  ...   0.9118\n",
              "18      2016-01-04  ...   0.9531\n",
              "19      2016-01-04  ...   0.9100\n",
              "\n",
              "[20 rows x 6 columns]"
            ]
          },
          "metadata": {},
          "execution_count": 32
        }
      ]
    },
    {
      "cell_type": "code",
      "metadata": {
        "id": "yy6ZLcEXQmlU"
      },
      "source": [
        "df_extra = df_extra[df_extra['compound'] > 0.5]"
      ],
      "execution_count": null,
      "outputs": []
    },
    {
      "cell_type": "code",
      "metadata": {
        "colab": {
          "base_uri": "https://localhost:8080/",
          "height": 206
        },
        "id": "k97DrhpiYnNK",
        "outputId": "9b0a07a7-75be-48fc-9ad9-b972d4494c70"
      },
      "source": [
        "df_extra.head()"
      ],
      "execution_count": null,
      "outputs": [
        {
          "output_type": "execute_result",
          "data": {
            "text/html": [
              "<div>\n",
              "<style scoped>\n",
              "    .dataframe tbody tr th:only-of-type {\n",
              "        vertical-align: middle;\n",
              "    }\n",
              "\n",
              "    .dataframe tbody tr th {\n",
              "        vertical-align: top;\n",
              "    }\n",
              "\n",
              "    .dataframe thead th {\n",
              "        text-align: right;\n",
              "    }\n",
              "</style>\n",
              "<table border=\"1\" class=\"dataframe\">\n",
              "  <thead>\n",
              "    <tr style=\"text-align: right;\">\n",
              "      <th></th>\n",
              "      <th>InteractionDate</th>\n",
              "      <th>Extracted Interaction Text</th>\n",
              "      <th>neg</th>\n",
              "      <th>neu</th>\n",
              "      <th>pos</th>\n",
              "      <th>compound</th>\n",
              "    </tr>\n",
              "  </thead>\n",
              "  <tbody>\n",
              "    <tr>\n",
              "      <th>0</th>\n",
              "      <td>2016-01-04</td>\n",
              "      <td>I thoroughly enjoyed your presentation yesterd...</td>\n",
              "      <td>0.039</td>\n",
              "      <td>0.722</td>\n",
              "      <td>0.238</td>\n",
              "      <td>0.9176</td>\n",
              "    </tr>\n",
              "    <tr>\n",
              "      <th>1</th>\n",
              "      <td>2016-01-04</td>\n",
              "      <td>speaking with you and your staff will be a tre...</td>\n",
              "      <td>0.000</td>\n",
              "      <td>0.837</td>\n",
              "      <td>0.163</td>\n",
              "      <td>0.8126</td>\n",
              "    </tr>\n",
              "    <tr>\n",
              "      <th>6</th>\n",
              "      <td>2016-01-04</td>\n",
              "      <td>I am very pleased to accept your invitation to...</td>\n",
              "      <td>0.000</td>\n",
              "      <td>0.758</td>\n",
              "      <td>0.242</td>\n",
              "      <td>0.7233</td>\n",
              "    </tr>\n",
              "    <tr>\n",
              "      <th>7</th>\n",
              "      <td>2016-01-04</td>\n",
              "      <td>Congratulations! Your work group achieved the ...</td>\n",
              "      <td>0.000</td>\n",
              "      <td>0.789</td>\n",
              "      <td>0.211</td>\n",
              "      <td>0.9564</td>\n",
              "    </tr>\n",
              "    <tr>\n",
              "      <th>11</th>\n",
              "      <td>2016-01-04</td>\n",
              "      <td>see how cutting edge technology can empower yo...</td>\n",
              "      <td>0.043</td>\n",
              "      <td>0.652</td>\n",
              "      <td>0.306</td>\n",
              "      <td>0.8516</td>\n",
              "    </tr>\n",
              "  </tbody>\n",
              "</table>\n",
              "</div>"
            ],
            "text/plain": [
              "   InteractionDate  ... compound\n",
              "0       2016-01-04  ...   0.9176\n",
              "1       2016-01-04  ...   0.8126\n",
              "6       2016-01-04  ...   0.7233\n",
              "7       2016-01-04  ...   0.9564\n",
              "11      2016-01-04  ...   0.8516\n",
              "\n",
              "[5 rows x 6 columns]"
            ]
          },
          "metadata": {},
          "execution_count": 34
        }
      ]
    },
    {
      "cell_type": "code",
      "metadata": {
        "id": "xaTgPy0fcIx2"
      },
      "source": [
        "df_pred = df_extra[df_extra['InteractionDate'] > '2018-12-31']"
      ],
      "execution_count": null,
      "outputs": []
    },
    {
      "cell_type": "code",
      "metadata": {
        "colab": {
          "base_uri": "https://localhost:8080/",
          "height": 206
        },
        "id": "sDiKSkODdPwL",
        "outputId": "236408e6-4639-4f15-9db7-420d8af94979"
      },
      "source": [
        "df_pred.head()"
      ],
      "execution_count": null,
      "outputs": [
        {
          "output_type": "execute_result",
          "data": {
            "text/html": [
              "<div>\n",
              "<style scoped>\n",
              "    .dataframe tbody tr th:only-of-type {\n",
              "        vertical-align: middle;\n",
              "    }\n",
              "\n",
              "    .dataframe tbody tr th {\n",
              "        vertical-align: top;\n",
              "    }\n",
              "\n",
              "    .dataframe thead th {\n",
              "        text-align: right;\n",
              "    }\n",
              "</style>\n",
              "<table border=\"1\" class=\"dataframe\">\n",
              "  <thead>\n",
              "    <tr style=\"text-align: right;\">\n",
              "      <th></th>\n",
              "      <th>InteractionDate</th>\n",
              "      <th>Extracted Interaction Text</th>\n",
              "      <th>neg</th>\n",
              "      <th>neu</th>\n",
              "      <th>pos</th>\n",
              "      <th>compound</th>\n",
              "    </tr>\n",
              "  </thead>\n",
              "  <tbody>\n",
              "    <tr>\n",
              "      <th>264829</th>\n",
              "      <td>2019-01-01</td>\n",
              "      <td>We have read your innovative plans to improve ...</td>\n",
              "      <td>0.000</td>\n",
              "      <td>0.603</td>\n",
              "      <td>0.397</td>\n",
              "      <td>0.9730</td>\n",
              "    </tr>\n",
              "    <tr>\n",
              "      <th>264830</th>\n",
              "      <td>2019-01-01</td>\n",
              "      <td>Please accept my regrets in resigning from my ...</td>\n",
              "      <td>0.173</td>\n",
              "      <td>0.512</td>\n",
              "      <td>0.315</td>\n",
              "      <td>0.5574</td>\n",
              "    </tr>\n",
              "    <tr>\n",
              "      <th>264832</th>\n",
              "      <td>2019-01-01</td>\n",
              "      <td>I appreciate your contribution to Morgan Stanl...</td>\n",
              "      <td>0.000</td>\n",
              "      <td>0.673</td>\n",
              "      <td>0.327</td>\n",
              "      <td>0.9118</td>\n",
              "    </tr>\n",
              "    <tr>\n",
              "      <th>264833</th>\n",
              "      <td>2019-01-01</td>\n",
              "      <td>As the manager of our computer department, I c...</td>\n",
              "      <td>0.000</td>\n",
              "      <td>0.763</td>\n",
              "      <td>0.237</td>\n",
              "      <td>0.7351</td>\n",
              "    </tr>\n",
              "    <tr>\n",
              "      <th>264834</th>\n",
              "      <td>2019-01-01</td>\n",
              "      <td>On behalf of management, I congratulate you on...</td>\n",
              "      <td>0.000</td>\n",
              "      <td>0.617</td>\n",
              "      <td>0.383</td>\n",
              "      <td>0.9808</td>\n",
              "    </tr>\n",
              "  </tbody>\n",
              "</table>\n",
              "</div>"
            ],
            "text/plain": [
              "       InteractionDate  ... compound\n",
              "264829      2019-01-01  ...   0.9730\n",
              "264830      2019-01-01  ...   0.5574\n",
              "264832      2019-01-01  ...   0.9118\n",
              "264833      2019-01-01  ...   0.7351\n",
              "264834      2019-01-01  ...   0.9808\n",
              "\n",
              "[5 rows x 6 columns]"
            ]
          },
          "metadata": {},
          "execution_count": 40
        }
      ]
    },
    {
      "cell_type": "code",
      "metadata": {
        "id": "8SE8g1GkdaQn"
      },
      "source": [
        "df_train = df_extra[df_extra['InteractionDate'] < '2019-01-01']"
      ],
      "execution_count": null,
      "outputs": []
    },
    {
      "cell_type": "code",
      "metadata": {
        "id": "0FLhlbAWfBEZ"
      },
      "source": [
        "df_pred = df_pred[['InteractionDate','compound']]\n",
        "df_train = df_train[['InteractionDate', 'compound']]"
      ],
      "execution_count": null,
      "outputs": []
    },
    {
      "cell_type": "code",
      "metadata": {
        "colab": {
          "base_uri": "https://localhost:8080/",
          "height": 365
        },
        "id": "1QAV3E0yfM6p",
        "outputId": "02af73f8-465f-46e3-a967-e15817279aa6"
      },
      "source": [
        "dataset.head()"
      ],
      "execution_count": null,
      "outputs": [
        {
          "output_type": "execute_result",
          "data": {
            "text/html": [
              "<div>\n",
              "<style scoped>\n",
              "    .dataframe tbody tr th:only-of-type {\n",
              "        vertical-align: middle;\n",
              "    }\n",
              "\n",
              "    .dataframe tbody tr th {\n",
              "        vertical-align: top;\n",
              "    }\n",
              "\n",
              "    .dataframe thead th {\n",
              "        text-align: right;\n",
              "    }\n",
              "</style>\n",
              "<table border=\"1\" class=\"dataframe\">\n",
              "  <thead>\n",
              "    <tr style=\"text-align: right;\">\n",
              "      <th></th>\n",
              "      <th>Account</th>\n",
              "      <th>Opportunity_ID</th>\n",
              "      <th>Sales_Agent</th>\n",
              "      <th>SalesAgentEmailID</th>\n",
              "      <th>ContactEmailID</th>\n",
              "      <th>Deal_Stage</th>\n",
              "      <th>Product</th>\n",
              "      <th>Close_Value</th>\n",
              "      <th>Created Date</th>\n",
              "      <th>Close Date</th>\n",
              "      <th>DateDiff</th>\n",
              "    </tr>\n",
              "  </thead>\n",
              "  <tbody>\n",
              "    <tr>\n",
              "      <th>0</th>\n",
              "      <td>Konex</td>\n",
              "      <td>3KR50X38</td>\n",
              "      <td>Corliss Cosme</td>\n",
              "      <td>corliss@piedpiper.com</td>\n",
              "      <td>delila@konex.com</td>\n",
              "      <td>Won</td>\n",
              "      <td>GTX Plus Basic</td>\n",
              "      <td>1255</td>\n",
              "      <td>2016-01-04</td>\n",
              "      <td>2016-05-24</td>\n",
              "      <td>141</td>\n",
              "    </tr>\n",
              "    <tr>\n",
              "      <th>1</th>\n",
              "      <td>Finjob</td>\n",
              "      <td>YFS5KLJJ</td>\n",
              "      <td>Rosalina Dieter</td>\n",
              "      <td>rosalina@piedpiper.com</td>\n",
              "      <td>belinda@finjob.com</td>\n",
              "      <td>Won</td>\n",
              "      <td>MG Special</td>\n",
              "      <td>45</td>\n",
              "      <td>2016-01-04</td>\n",
              "      <td>2016-11-02</td>\n",
              "      <td>303</td>\n",
              "    </tr>\n",
              "    <tr>\n",
              "      <th>2</th>\n",
              "      <td>Kinnamplus</td>\n",
              "      <td>N0ONCYVZ</td>\n",
              "      <td>Donn Cantrell</td>\n",
              "      <td>donn@piedpiper.com</td>\n",
              "      <td>monte@kinnamplus.com</td>\n",
              "      <td>Lost</td>\n",
              "      <td>MG Special</td>\n",
              "      <td>1054</td>\n",
              "      <td>2016-01-06</td>\n",
              "      <td>2016-12-07</td>\n",
              "      <td>336</td>\n",
              "    </tr>\n",
              "    <tr>\n",
              "      <th>3</th>\n",
              "      <td>Genco Pura Olive Oil Company</td>\n",
              "      <td>IBEUTCSW</td>\n",
              "      <td>James Ascencio</td>\n",
              "      <td>james@piedpiper.com</td>\n",
              "      <td>karole@gencopuraoliveoilcompany.com</td>\n",
              "      <td>In Progress</td>\n",
              "      <td>MG Advanced</td>\n",
              "      <td>1054</td>\n",
              "      <td>2016-01-06</td>\n",
              "      <td>2016-09-11</td>\n",
              "      <td>249</td>\n",
              "    </tr>\n",
              "    <tr>\n",
              "      <th>4</th>\n",
              "      <td>Initech</td>\n",
              "      <td>G8AO5FA2</td>\n",
              "      <td>Wilburn Farren</td>\n",
              "      <td>wilburn@piedpiper.com</td>\n",
              "      <td>alejandro@initech.com</td>\n",
              "      <td>Lost</td>\n",
              "      <td>MG Advanced</td>\n",
              "      <td>517</td>\n",
              "      <td>2016-01-06</td>\n",
              "      <td>2016-09-18</td>\n",
              "      <td>256</td>\n",
              "    </tr>\n",
              "  </tbody>\n",
              "</table>\n",
              "</div>"
            ],
            "text/plain": [
              "                        Account Opportunity_ID  ... Close Date DateDiff\n",
              "0                         Konex       3KR50X38  ... 2016-05-24      141\n",
              "1                        Finjob       YFS5KLJJ  ... 2016-11-02      303\n",
              "2                    Kinnamplus       N0ONCYVZ  ... 2016-12-07      336\n",
              "3  Genco Pura Olive Oil Company       IBEUTCSW  ... 2016-09-11      249\n",
              "4                       Initech       G8AO5FA2  ... 2016-09-18      256\n",
              "\n",
              "[5 rows x 11 columns]"
            ]
          },
          "metadata": {},
          "execution_count": 49
        }
      ]
    },
    {
      "cell_type": "code",
      "metadata": {
        "id": "qaevdaWVfjQI"
      },
      "source": [
        "df1 = dataset[['Deal_Stage', 'Close_Value', 'Created Date', 'DateDiff']]"
      ],
      "execution_count": null,
      "outputs": []
    },
    {
      "cell_type": "code",
      "metadata": {
        "id": "uaGZdT-gf7Yk"
      },
      "source": [
        "df1 = df1[df1['Deal_Stage'] == 'Won']"
      ],
      "execution_count": null,
      "outputs": []
    },
    {
      "cell_type": "code",
      "metadata": {
        "colab": {
          "base_uri": "https://localhost:8080/",
          "height": 206
        },
        "id": "V9KyrvbhgS7B",
        "outputId": "5064aa2f-3402-43c3-aed6-9a6672d31a96"
      },
      "source": [
        "df1.head()"
      ],
      "execution_count": null,
      "outputs": [
        {
          "output_type": "execute_result",
          "data": {
            "text/html": [
              "<div>\n",
              "<style scoped>\n",
              "    .dataframe tbody tr th:only-of-type {\n",
              "        vertical-align: middle;\n",
              "    }\n",
              "\n",
              "    .dataframe tbody tr th {\n",
              "        vertical-align: top;\n",
              "    }\n",
              "\n",
              "    .dataframe thead th {\n",
              "        text-align: right;\n",
              "    }\n",
              "</style>\n",
              "<table border=\"1\" class=\"dataframe\">\n",
              "  <thead>\n",
              "    <tr style=\"text-align: right;\">\n",
              "      <th></th>\n",
              "      <th>Close_Value</th>\n",
              "      <th>InteractionDate</th>\n",
              "      <th>DateDiff</th>\n",
              "    </tr>\n",
              "  </thead>\n",
              "  <tbody>\n",
              "    <tr>\n",
              "      <th>0</th>\n",
              "      <td>1255</td>\n",
              "      <td>2016-01-04</td>\n",
              "      <td>141</td>\n",
              "    </tr>\n",
              "    <tr>\n",
              "      <th>1</th>\n",
              "      <td>45</td>\n",
              "      <td>2016-01-04</td>\n",
              "      <td>303</td>\n",
              "    </tr>\n",
              "    <tr>\n",
              "      <th>5</th>\n",
              "      <td>3180</td>\n",
              "      <td>2016-01-07</td>\n",
              "      <td>24</td>\n",
              "    </tr>\n",
              "    <tr>\n",
              "      <th>6</th>\n",
              "      <td>517</td>\n",
              "      <td>2016-01-08</td>\n",
              "      <td>335</td>\n",
              "    </tr>\n",
              "    <tr>\n",
              "      <th>7</th>\n",
              "      <td>5539</td>\n",
              "      <td>2016-01-10</td>\n",
              "      <td>328</td>\n",
              "    </tr>\n",
              "  </tbody>\n",
              "</table>\n",
              "</div>"
            ],
            "text/plain": [
              "   Close_Value InteractionDate  DateDiff\n",
              "0         1255      2016-01-04       141\n",
              "1           45      2016-01-04       303\n",
              "5         3180      2016-01-07        24\n",
              "6          517      2016-01-08       335\n",
              "7         5539      2016-01-10       328"
            ]
          },
          "metadata": {},
          "execution_count": 160
        }
      ]
    },
    {
      "cell_type": "code",
      "metadata": {
        "id": "5Ii073jLINGm"
      },
      "source": [
        "df1 = df1[['Close_Value','Created Date', 'DateDiff']]"
      ],
      "execution_count": null,
      "outputs": []
    },
    {
      "cell_type": "code",
      "metadata": {
        "id": "iYHX0tkEJbWt"
      },
      "source": [
        "df1['compound'] = 0"
      ],
      "execution_count": null,
      "outputs": []
    },
    {
      "cell_type": "code",
      "metadata": {
        "id": "jV6nHbbkJ9q_"
      },
      "source": [
        "df_train['Count'] = 1"
      ],
      "execution_count": null,
      "outputs": []
    },
    {
      "cell_type": "code",
      "metadata": {
        "id": "qh_yaR9k_ils"
      },
      "source": [
        "df_train['InteractionDate'] = pd.to_datetime(df_train['InteractionDate'])\n",
        "\n",
        "df_new = df_train.groupby(df_train['InteractionDate'].dt.date).sum()"
      ],
      "execution_count": null,
      "outputs": []
    },
    {
      "cell_type": "code",
      "metadata": {
        "colab": {
          "base_uri": "https://localhost:8080/",
          "height": 238
        },
        "id": "c6_vTG6XCydx",
        "outputId": "68dcab65-247b-4b50-ffc5-04d67f59288e"
      },
      "source": [
        "df_new.head()"
      ],
      "execution_count": null,
      "outputs": [
        {
          "output_type": "execute_result",
          "data": {
            "text/html": [
              "<div>\n",
              "<style scoped>\n",
              "    .dataframe tbody tr th:only-of-type {\n",
              "        vertical-align: middle;\n",
              "    }\n",
              "\n",
              "    .dataframe tbody tr th {\n",
              "        vertical-align: top;\n",
              "    }\n",
              "\n",
              "    .dataframe thead th {\n",
              "        text-align: right;\n",
              "    }\n",
              "</style>\n",
              "<table border=\"1\" class=\"dataframe\">\n",
              "  <thead>\n",
              "    <tr style=\"text-align: right;\">\n",
              "      <th></th>\n",
              "      <th>compound</th>\n",
              "    </tr>\n",
              "    <tr>\n",
              "      <th>InteractionDate</th>\n",
              "      <th></th>\n",
              "    </tr>\n",
              "  </thead>\n",
              "  <tbody>\n",
              "    <tr>\n",
              "      <th>2016-01-04</th>\n",
              "      <td>0.833273</td>\n",
              "    </tr>\n",
              "    <tr>\n",
              "      <th>2016-01-05</th>\n",
              "      <td>0.822345</td>\n",
              "    </tr>\n",
              "    <tr>\n",
              "      <th>2016-01-06</th>\n",
              "      <td>0.846976</td>\n",
              "    </tr>\n",
              "    <tr>\n",
              "      <th>2016-01-07</th>\n",
              "      <td>0.817393</td>\n",
              "    </tr>\n",
              "    <tr>\n",
              "      <th>2016-01-08</th>\n",
              "      <td>0.838793</td>\n",
              "    </tr>\n",
              "  </tbody>\n",
              "</table>\n",
              "</div>"
            ],
            "text/plain": [
              "                 compound\n",
              "InteractionDate          \n",
              "2016-01-04       0.833273\n",
              "2016-01-05       0.822345\n",
              "2016-01-06       0.846976\n",
              "2016-01-07       0.817393\n",
              "2016-01-08       0.838793"
            ]
          },
          "metadata": {},
          "execution_count": 167
        }
      ]
    },
    {
      "cell_type": "code",
      "metadata": {
        "colab": {
          "base_uri": "https://localhost:8080/"
        },
        "id": "J9M1ZL8-pjN9",
        "outputId": "8e1adb53-72c8-4d6a-8154-a5231b6d1398"
      },
      "source": [
        "df1.rename(columns={'Created Date':'InteractionDate'}, inplace=True)"
      ],
      "execution_count": null,
      "outputs": [
        {
          "output_type": "stream",
          "name": "stderr",
          "text": [
            "/usr/local/lib/python3.7/dist-packages/pandas/core/frame.py:4308: SettingWithCopyWarning: \n",
            "A value is trying to be set on a copy of a slice from a DataFrame\n",
            "\n",
            "See the caveats in the documentation: https://pandas.pydata.org/pandas-docs/stable/user_guide/indexing.html#returning-a-view-versus-a-copy\n",
            "  errors=errors,\n"
          ]
        }
      ]
    },
    {
      "cell_type": "code",
      "metadata": {
        "id": "9cTo9WR9L47O"
      },
      "source": [
        "df_new['compound'] = df_new['compound']/df_new['Count']"
      ],
      "execution_count": null,
      "outputs": []
    },
    {
      "cell_type": "markdown",
      "metadata": {
        "id": "UHQ3B4wCnkt7"
      },
      "source": [
        "Couldn't figure out how to merge the 2 dataframes without getting rid of duplicates in 'Created date', so grouping all of it together which makes DateDiff useless for the time being."
      ]
    },
    {
      "cell_type": "code",
      "metadata": {
        "colab": {
          "base_uri": "https://localhost:8080/"
        },
        "id": "8EKsKNAsn00W",
        "outputId": "a9c8d1f4-82a9-43cb-b268-a79f1d4b1d87"
      },
      "source": [
        "df1['InteractionDate'] = pd.to_datetime(df1['InteractionDate'])\n",
        "\n",
        "df_grouped_df1 = df1.groupby(df1['InteractionDate'].dt.date).sum()"
      ],
      "execution_count": null,
      "outputs": [
        {
          "output_type": "stream",
          "name": "stderr",
          "text": [
            "/usr/local/lib/python3.7/dist-packages/ipykernel_launcher.py:1: SettingWithCopyWarning: \n",
            "A value is trying to be set on a copy of a slice from a DataFrame.\n",
            "Try using .loc[row_indexer,col_indexer] = value instead\n",
            "\n",
            "See the caveats in the documentation: https://pandas.pydata.org/pandas-docs/stable/user_guide/indexing.html#returning-a-view-versus-a-copy\n",
            "  \"\"\"Entry point for launching an IPython kernel.\n"
          ]
        }
      ]
    },
    {
      "cell_type": "code",
      "metadata": {
        "colab": {
          "base_uri": "https://localhost:8080/",
          "height": 238
        },
        "id": "KItcxdmRoHpp",
        "outputId": "976dc687-6140-4574-903b-d8cf8a54bc64"
      },
      "source": [
        "df_new.head()"
      ],
      "execution_count": null,
      "outputs": [
        {
          "output_type": "execute_result",
          "data": {
            "text/html": [
              "<div>\n",
              "<style scoped>\n",
              "    .dataframe tbody tr th:only-of-type {\n",
              "        vertical-align: middle;\n",
              "    }\n",
              "\n",
              "    .dataframe tbody tr th {\n",
              "        vertical-align: top;\n",
              "    }\n",
              "\n",
              "    .dataframe thead th {\n",
              "        text-align: right;\n",
              "    }\n",
              "</style>\n",
              "<table border=\"1\" class=\"dataframe\">\n",
              "  <thead>\n",
              "    <tr style=\"text-align: right;\">\n",
              "      <th></th>\n",
              "      <th>compound</th>\n",
              "    </tr>\n",
              "    <tr>\n",
              "      <th>InteractionDate</th>\n",
              "      <th></th>\n",
              "    </tr>\n",
              "  </thead>\n",
              "  <tbody>\n",
              "    <tr>\n",
              "      <th>2016-01-04</th>\n",
              "      <td>0.833273</td>\n",
              "    </tr>\n",
              "    <tr>\n",
              "      <th>2016-01-05</th>\n",
              "      <td>0.822345</td>\n",
              "    </tr>\n",
              "    <tr>\n",
              "      <th>2016-01-06</th>\n",
              "      <td>0.846976</td>\n",
              "    </tr>\n",
              "    <tr>\n",
              "      <th>2016-01-07</th>\n",
              "      <td>0.817393</td>\n",
              "    </tr>\n",
              "    <tr>\n",
              "      <th>2016-01-08</th>\n",
              "      <td>0.838793</td>\n",
              "    </tr>\n",
              "  </tbody>\n",
              "</table>\n",
              "</div>"
            ],
            "text/plain": [
              "                 compound\n",
              "InteractionDate          \n",
              "2016-01-04       0.833273\n",
              "2016-01-05       0.822345\n",
              "2016-01-06       0.846976\n",
              "2016-01-07       0.817393\n",
              "2016-01-08       0.838793"
            ]
          },
          "metadata": {},
          "execution_count": 173
        }
      ]
    },
    {
      "cell_type": "code",
      "metadata": {
        "id": "kTm3onwtoKVK"
      },
      "source": [
        "merge = pd.merge(df_new, df_grouped_df1, how = 'outer', on = 'InteractionDate')"
      ],
      "execution_count": null,
      "outputs": []
    },
    {
      "cell_type": "code",
      "metadata": {
        "id": "ilD3CLhlQnCe"
      },
      "source": [
        "merge = merge.replace(np.nan, 0.0)"
      ],
      "execution_count": null,
      "outputs": []
    },
    {
      "cell_type": "code",
      "metadata": {
        "colab": {
          "base_uri": "https://localhost:8080/",
          "height": 238
        },
        "id": "PG56hwICSvwN",
        "outputId": "bad2d2de-b2ed-40b7-913a-eeafafda0395"
      },
      "source": [
        "merge.head()"
      ],
      "execution_count": null,
      "outputs": [
        {
          "output_type": "execute_result",
          "data": {
            "text/html": [
              "<div>\n",
              "<style scoped>\n",
              "    .dataframe tbody tr th:only-of-type {\n",
              "        vertical-align: middle;\n",
              "    }\n",
              "\n",
              "    .dataframe tbody tr th {\n",
              "        vertical-align: top;\n",
              "    }\n",
              "\n",
              "    .dataframe thead th {\n",
              "        text-align: right;\n",
              "    }\n",
              "</style>\n",
              "<table border=\"1\" class=\"dataframe\">\n",
              "  <thead>\n",
              "    <tr style=\"text-align: right;\">\n",
              "      <th></th>\n",
              "      <th>InteractionDate</th>\n",
              "      <th>compound</th>\n",
              "      <th>Close_Value</th>\n",
              "      <th>DateDiff</th>\n",
              "    </tr>\n",
              "    <tr>\n",
              "      <th>InteractionDate</th>\n",
              "      <th></th>\n",
              "      <th></th>\n",
              "      <th></th>\n",
              "      <th></th>\n",
              "    </tr>\n",
              "  </thead>\n",
              "  <tbody>\n",
              "    <tr>\n",
              "      <th>2016-01-04</th>\n",
              "      <td>0.0</td>\n",
              "      <td>0.833273</td>\n",
              "      <td>1300.0</td>\n",
              "      <td>444.0</td>\n",
              "    </tr>\n",
              "    <tr>\n",
              "      <th>2016-01-05</th>\n",
              "      <td>0.0</td>\n",
              "      <td>0.822345</td>\n",
              "      <td>0.0</td>\n",
              "      <td>0.0</td>\n",
              "    </tr>\n",
              "    <tr>\n",
              "      <th>2016-01-06</th>\n",
              "      <td>0.0</td>\n",
              "      <td>0.846976</td>\n",
              "      <td>0.0</td>\n",
              "      <td>0.0</td>\n",
              "    </tr>\n",
              "    <tr>\n",
              "      <th>2016-01-07</th>\n",
              "      <td>0.0</td>\n",
              "      <td>0.817393</td>\n",
              "      <td>3180.0</td>\n",
              "      <td>24.0</td>\n",
              "    </tr>\n",
              "    <tr>\n",
              "      <th>2016-01-08</th>\n",
              "      <td>0.0</td>\n",
              "      <td>0.838793</td>\n",
              "      <td>517.0</td>\n",
              "      <td>335.0</td>\n",
              "    </tr>\n",
              "  </tbody>\n",
              "</table>\n",
              "</div>"
            ],
            "text/plain": [
              "                 InteractionDate  compound  Close_Value  DateDiff\n",
              "InteractionDate                                                  \n",
              "2016-01-04                   0.0  0.833273       1300.0     444.0\n",
              "2016-01-05                   0.0  0.822345          0.0       0.0\n",
              "2016-01-06                   0.0  0.846976          0.0       0.0\n",
              "2016-01-07                   0.0  0.817393       3180.0      24.0\n",
              "2016-01-08                   0.0  0.838793        517.0     335.0"
            ]
          },
          "metadata": {},
          "execution_count": 200
        }
      ]
    },
    {
      "cell_type": "code",
      "metadata": {
        "id": "Mvyo01Y1QAZr"
      },
      "source": [
        "merge = merge.reindex(columns=['InteractionDate','compound','Close_Value','DateDiff'])"
      ],
      "execution_count": null,
      "outputs": []
    },
    {
      "cell_type": "code",
      "metadata": {
        "id": "_AErRBI7oaip"
      },
      "source": [
        "from sklearn import linear_model"
      ],
      "execution_count": null,
      "outputs": []
    },
    {
      "cell_type": "code",
      "metadata": {
        "id": "j5O6DsH3Hkp4"
      },
      "source": [
        "X_train = merge[['compound','InteractionDate']]\n",
        "y_train = merge['Close_Value']"
      ],
      "execution_count": null,
      "outputs": []
    },
    {
      "cell_type": "code",
      "metadata": {
        "colab": {
          "base_uri": "https://localhost:8080/"
        },
        "id": "s1DWI9X4Puao",
        "outputId": "71f69880-0827-4c7e-c289-3c5ec7d7a3e5"
      },
      "source": [
        "regress = linear_model.LinearRegression()\n",
        "regress.fit(X_train, y_train)"
      ],
      "execution_count": null,
      "outputs": [
        {
          "output_type": "execute_result",
          "data": {
            "text/plain": [
              "LinearRegression()"
            ]
          },
          "metadata": {},
          "execution_count": 212
        }
      ]
    },
    {
      "cell_type": "code",
      "metadata": {
        "colab": {
          "base_uri": "https://localhost:8080/",
          "height": 206
        },
        "id": "Q1ft-gOdSayh",
        "outputId": "33c823d6-d898-400b-d12a-54664178fe91"
      },
      "source": [
        "df_pred.head()"
      ],
      "execution_count": null,
      "outputs": [
        {
          "output_type": "execute_result",
          "data": {
            "text/html": [
              "<div>\n",
              "<style scoped>\n",
              "    .dataframe tbody tr th:only-of-type {\n",
              "        vertical-align: middle;\n",
              "    }\n",
              "\n",
              "    .dataframe tbody tr th {\n",
              "        vertical-align: top;\n",
              "    }\n",
              "\n",
              "    .dataframe thead th {\n",
              "        text-align: right;\n",
              "    }\n",
              "</style>\n",
              "<table border=\"1\" class=\"dataframe\">\n",
              "  <thead>\n",
              "    <tr style=\"text-align: right;\">\n",
              "      <th></th>\n",
              "      <th>InteractionDate</th>\n",
              "      <th>compound</th>\n",
              "    </tr>\n",
              "  </thead>\n",
              "  <tbody>\n",
              "    <tr>\n",
              "      <th>264829</th>\n",
              "      <td>2019-01-01</td>\n",
              "      <td>0.9730</td>\n",
              "    </tr>\n",
              "    <tr>\n",
              "      <th>264830</th>\n",
              "      <td>2019-01-01</td>\n",
              "      <td>0.5574</td>\n",
              "    </tr>\n",
              "    <tr>\n",
              "      <th>264832</th>\n",
              "      <td>2019-01-01</td>\n",
              "      <td>0.9118</td>\n",
              "    </tr>\n",
              "    <tr>\n",
              "      <th>264833</th>\n",
              "      <td>2019-01-01</td>\n",
              "      <td>0.7351</td>\n",
              "    </tr>\n",
              "    <tr>\n",
              "      <th>264834</th>\n",
              "      <td>2019-01-01</td>\n",
              "      <td>0.9808</td>\n",
              "    </tr>\n",
              "  </tbody>\n",
              "</table>\n",
              "</div>"
            ],
            "text/plain": [
              "       InteractionDate  compound\n",
              "264829      2019-01-01    0.9730\n",
              "264830      2019-01-01    0.5574\n",
              "264832      2019-01-01    0.9118\n",
              "264833      2019-01-01    0.7351\n",
              "264834      2019-01-01    0.9808"
            ]
          },
          "metadata": {},
          "execution_count": 204
        }
      ]
    },
    {
      "cell_type": "code",
      "metadata": {
        "id": "L-kUVYJYTV5-"
      },
      "source": [
        "import datetime as dt\n",
        "merge['InteractionDate'] = pd.to_datetime(merge['InteractionDate'])\n",
        "merge['InteractionDate']=merge['InteractionDate'].map(dt.datetime.toordinal)"
      ],
      "execution_count": null,
      "outputs": []
    },
    {
      "cell_type": "code",
      "metadata": {
        "id": "N2_ExzajWmgt"
      },
      "source": [
        "df_predict['InteractionDate'] = pd.to_datetime(df_predict['InteractionDate'])\n",
        "df_predict['InteractionDate']=df_predict['InteractionDate'].map(dt.datetime.toordinal)"
      ],
      "execution_count": null,
      "outputs": []
    },
    {
      "cell_type": "code",
      "metadata": {
        "colab": {
          "base_uri": "https://localhost:8080/",
          "height": 206
        },
        "id": "ZdE3wssfW1tV",
        "outputId": "dff0c47a-60ef-4c5a-b8cc-3cd126b6f045"
      },
      "source": [
        "df_pred.head()"
      ],
      "execution_count": null,
      "outputs": [
        {
          "output_type": "execute_result",
          "data": {
            "text/html": [
              "<div>\n",
              "<style scoped>\n",
              "    .dataframe tbody tr th:only-of-type {\n",
              "        vertical-align: middle;\n",
              "    }\n",
              "\n",
              "    .dataframe tbody tr th {\n",
              "        vertical-align: top;\n",
              "    }\n",
              "\n",
              "    .dataframe thead th {\n",
              "        text-align: right;\n",
              "    }\n",
              "</style>\n",
              "<table border=\"1\" class=\"dataframe\">\n",
              "  <thead>\n",
              "    <tr style=\"text-align: right;\">\n",
              "      <th></th>\n",
              "      <th>InteractionDate</th>\n",
              "      <th>compound</th>\n",
              "    </tr>\n",
              "  </thead>\n",
              "  <tbody>\n",
              "    <tr>\n",
              "      <th>264829</th>\n",
              "      <td>2019-01-01</td>\n",
              "      <td>0.9730</td>\n",
              "    </tr>\n",
              "    <tr>\n",
              "      <th>264830</th>\n",
              "      <td>2019-01-01</td>\n",
              "      <td>0.5574</td>\n",
              "    </tr>\n",
              "    <tr>\n",
              "      <th>264832</th>\n",
              "      <td>2019-01-01</td>\n",
              "      <td>0.9118</td>\n",
              "    </tr>\n",
              "    <tr>\n",
              "      <th>264833</th>\n",
              "      <td>2019-01-01</td>\n",
              "      <td>0.7351</td>\n",
              "    </tr>\n",
              "    <tr>\n",
              "      <th>264834</th>\n",
              "      <td>2019-01-01</td>\n",
              "      <td>0.9808</td>\n",
              "    </tr>\n",
              "  </tbody>\n",
              "</table>\n",
              "</div>"
            ],
            "text/plain": [
              "       InteractionDate  compound\n",
              "264829      2019-01-01    0.9730\n",
              "264830      2019-01-01    0.5574\n",
              "264832      2019-01-01    0.9118\n",
              "264833      2019-01-01    0.7351\n",
              "264834      2019-01-01    0.9808"
            ]
          },
          "metadata": {},
          "execution_count": 222
        }
      ]
    },
    {
      "cell_type": "code",
      "metadata": {
        "id": "PBCirUcTXO1x"
      },
      "source": [
        "df_pred['InteractionDate'] = pd.to_datetime(df_pred['InteractionDate'])\n",
        "\n",
        "df_predict = df_pred.groupby(df_pred['InteractionDate'].dt.date).sum()"
      ],
      "execution_count": null,
      "outputs": []
    },
    {
      "cell_type": "code",
      "metadata": {
        "colab": {
          "base_uri": "https://localhost:8080/",
          "height": 206
        },
        "id": "Hy98ojz1Yp58",
        "outputId": "6490b6dd-429e-47e6-d233-261250b2f599"
      },
      "source": [
        "df_predict.head()"
      ],
      "execution_count": null,
      "outputs": [
        {
          "output_type": "execute_result",
          "data": {
            "text/html": [
              "<div>\n",
              "<style scoped>\n",
              "    .dataframe tbody tr th:only-of-type {\n",
              "        vertical-align: middle;\n",
              "    }\n",
              "\n",
              "    .dataframe tbody tr th {\n",
              "        vertical-align: top;\n",
              "    }\n",
              "\n",
              "    .dataframe thead th {\n",
              "        text-align: right;\n",
              "    }\n",
              "</style>\n",
              "<table border=\"1\" class=\"dataframe\">\n",
              "  <thead>\n",
              "    <tr style=\"text-align: right;\">\n",
              "      <th></th>\n",
              "      <th>InteractionDate</th>\n",
              "      <th>compound</th>\n",
              "    </tr>\n",
              "  </thead>\n",
              "  <tbody>\n",
              "    <tr>\n",
              "      <th>0</th>\n",
              "      <td>737060</td>\n",
              "      <td>0.828846</td>\n",
              "    </tr>\n",
              "    <tr>\n",
              "      <th>1</th>\n",
              "      <td>737061</td>\n",
              "      <td>0.817134</td>\n",
              "    </tr>\n",
              "    <tr>\n",
              "      <th>2</th>\n",
              "      <td>737062</td>\n",
              "      <td>0.829175</td>\n",
              "    </tr>\n",
              "    <tr>\n",
              "      <th>3</th>\n",
              "      <td>737063</td>\n",
              "      <td>0.817763</td>\n",
              "    </tr>\n",
              "    <tr>\n",
              "      <th>4</th>\n",
              "      <td>737064</td>\n",
              "      <td>0.820829</td>\n",
              "    </tr>\n",
              "  </tbody>\n",
              "</table>\n",
              "</div>"
            ],
            "text/plain": [
              "   InteractionDate  compound\n",
              "0           737060  0.828846\n",
              "1           737061  0.817134\n",
              "2           737062  0.829175\n",
              "3           737063  0.817763\n",
              "4           737064  0.820829"
            ]
          },
          "metadata": {},
          "execution_count": 251
        }
      ]
    },
    {
      "cell_type": "code",
      "metadata": {
        "id": "efHAdtsxcH5K"
      },
      "source": [
        "df_predict['compound'] = df_predict['compound']/df_predict['Count']"
      ],
      "execution_count": null,
      "outputs": []
    },
    {
      "cell_type": "code",
      "metadata": {
        "id": "9g8Reb3HcUQz"
      },
      "source": [
        "df_predict = df_predict.reset_index()"
      ],
      "execution_count": null,
      "outputs": []
    },
    {
      "cell_type": "code",
      "metadata": {
        "id": "HvHkP9aZc0YZ"
      },
      "source": [
        "df_predict['InteractionDate'] = pd.to_datetime(df_predict['InteractionDate'])\n",
        "df_predict['InteractionDate']=df_predict['InteractionDate'].map(dt.datetime.toordinal)"
      ],
      "execution_count": null,
      "outputs": []
    },
    {
      "cell_type": "code",
      "metadata": {
        "colab": {
          "base_uri": "https://localhost:8080/",
          "height": 382
        },
        "id": "NU98Hj_bc8JH",
        "outputId": "a4cd345e-d5aa-4c31-8346-21e7b2ffae9b"
      },
      "source": [
        "Prediction = regress.predict([[]])"
      ],
      "execution_count": null,
      "outputs": [
        {
          "output_type": "stream",
          "name": "stderr",
          "text": [
            "/usr/local/lib/python3.7/dist-packages/sklearn/base.py:446: UserWarning: X does not have valid feature names, but LinearRegression was fitted with feature names\n",
            "  \"X does not have valid feature names, but\"\n"
          ]
        },
        {
          "output_type": "error",
          "ename": "ValueError",
          "evalue": "ignored",
          "traceback": [
            "\u001b[0;31m---------------------------------------------------------------------------\u001b[0m",
            "\u001b[0;31mValueError\u001b[0m                                Traceback (most recent call last)",
            "\u001b[0;32m<ipython-input-253-b63353736fcb>\u001b[0m in \u001b[0;36m<module>\u001b[0;34m()\u001b[0m\n\u001b[0;32m----> 1\u001b[0;31m \u001b[0mPrediction\u001b[0m \u001b[0;34m=\u001b[0m \u001b[0mregress\u001b[0m\u001b[0;34m.\u001b[0m\u001b[0mpredict\u001b[0m\u001b[0;34m(\u001b[0m\u001b[0;34m[\u001b[0m\u001b[0;34m[\u001b[0m\u001b[0mdf_predict\u001b[0m\u001b[0;34m]\u001b[0m\u001b[0;34m]\u001b[0m\u001b[0;34m)\u001b[0m\u001b[0;34m\u001b[0m\u001b[0;34m\u001b[0m\u001b[0m\n\u001b[0m",
            "\u001b[0;32m/usr/local/lib/python3.7/dist-packages/sklearn/linear_model/_base.py\u001b[0m in \u001b[0;36mpredict\u001b[0;34m(self, X)\u001b[0m\n\u001b[1;32m    360\u001b[0m             \u001b[0mReturns\u001b[0m \u001b[0mpredicted\u001b[0m \u001b[0mvalues\u001b[0m\u001b[0;34m.\u001b[0m\u001b[0;34m\u001b[0m\u001b[0;34m\u001b[0m\u001b[0m\n\u001b[1;32m    361\u001b[0m         \"\"\"\n\u001b[0;32m--> 362\u001b[0;31m         \u001b[0;32mreturn\u001b[0m \u001b[0mself\u001b[0m\u001b[0;34m.\u001b[0m\u001b[0m_decision_function\u001b[0m\u001b[0;34m(\u001b[0m\u001b[0mX\u001b[0m\u001b[0;34m)\u001b[0m\u001b[0;34m\u001b[0m\u001b[0;34m\u001b[0m\u001b[0m\n\u001b[0m\u001b[1;32m    363\u001b[0m \u001b[0;34m\u001b[0m\u001b[0m\n\u001b[1;32m    364\u001b[0m     \u001b[0m_preprocess_data\u001b[0m \u001b[0;34m=\u001b[0m \u001b[0mstaticmethod\u001b[0m\u001b[0;34m(\u001b[0m\u001b[0m_preprocess_data\u001b[0m\u001b[0;34m)\u001b[0m\u001b[0;34m\u001b[0m\u001b[0;34m\u001b[0m\u001b[0m\n",
            "\u001b[0;32m/usr/local/lib/python3.7/dist-packages/sklearn/linear_model/_base.py\u001b[0m in \u001b[0;36m_decision_function\u001b[0;34m(self, X)\u001b[0m\n\u001b[1;32m    343\u001b[0m         \u001b[0mcheck_is_fitted\u001b[0m\u001b[0;34m(\u001b[0m\u001b[0mself\u001b[0m\u001b[0;34m)\u001b[0m\u001b[0;34m\u001b[0m\u001b[0;34m\u001b[0m\u001b[0m\n\u001b[1;32m    344\u001b[0m \u001b[0;34m\u001b[0m\u001b[0m\n\u001b[0;32m--> 345\u001b[0;31m         \u001b[0mX\u001b[0m \u001b[0;34m=\u001b[0m \u001b[0mself\u001b[0m\u001b[0;34m.\u001b[0m\u001b[0m_validate_data\u001b[0m\u001b[0;34m(\u001b[0m\u001b[0mX\u001b[0m\u001b[0;34m,\u001b[0m \u001b[0maccept_sparse\u001b[0m\u001b[0;34m=\u001b[0m\u001b[0;34m[\u001b[0m\u001b[0;34m\"csr\"\u001b[0m\u001b[0;34m,\u001b[0m \u001b[0;34m\"csc\"\u001b[0m\u001b[0;34m,\u001b[0m \u001b[0;34m\"coo\"\u001b[0m\u001b[0;34m]\u001b[0m\u001b[0;34m,\u001b[0m \u001b[0mreset\u001b[0m\u001b[0;34m=\u001b[0m\u001b[0;32mFalse\u001b[0m\u001b[0;34m)\u001b[0m\u001b[0;34m\u001b[0m\u001b[0;34m\u001b[0m\u001b[0m\n\u001b[0m\u001b[1;32m    346\u001b[0m         \u001b[0;32mreturn\u001b[0m \u001b[0msafe_sparse_dot\u001b[0m\u001b[0;34m(\u001b[0m\u001b[0mX\u001b[0m\u001b[0;34m,\u001b[0m \u001b[0mself\u001b[0m\u001b[0;34m.\u001b[0m\u001b[0mcoef_\u001b[0m\u001b[0;34m.\u001b[0m\u001b[0mT\u001b[0m\u001b[0;34m,\u001b[0m \u001b[0mdense_output\u001b[0m\u001b[0;34m=\u001b[0m\u001b[0;32mTrue\u001b[0m\u001b[0;34m)\u001b[0m \u001b[0;34m+\u001b[0m \u001b[0mself\u001b[0m\u001b[0;34m.\u001b[0m\u001b[0mintercept_\u001b[0m\u001b[0;34m\u001b[0m\u001b[0;34m\u001b[0m\u001b[0m\n\u001b[1;32m    347\u001b[0m \u001b[0;34m\u001b[0m\u001b[0m\n",
            "\u001b[0;32m/usr/local/lib/python3.7/dist-packages/sklearn/base.py\u001b[0m in \u001b[0;36m_validate_data\u001b[0;34m(self, X, y, reset, validate_separately, **check_params)\u001b[0m\n\u001b[1;32m    559\u001b[0m             \u001b[0;32mraise\u001b[0m \u001b[0mValueError\u001b[0m\u001b[0;34m(\u001b[0m\u001b[0;34m\"Validation should be done on X, y or both.\"\u001b[0m\u001b[0;34m)\u001b[0m\u001b[0;34m\u001b[0m\u001b[0;34m\u001b[0m\u001b[0m\n\u001b[1;32m    560\u001b[0m         \u001b[0;32melif\u001b[0m \u001b[0;32mnot\u001b[0m \u001b[0mno_val_X\u001b[0m \u001b[0;32mand\u001b[0m \u001b[0mno_val_y\u001b[0m\u001b[0;34m:\u001b[0m\u001b[0;34m\u001b[0m\u001b[0;34m\u001b[0m\u001b[0m\n\u001b[0;32m--> 561\u001b[0;31m             \u001b[0mX\u001b[0m \u001b[0;34m=\u001b[0m \u001b[0mcheck_array\u001b[0m\u001b[0;34m(\u001b[0m\u001b[0mX\u001b[0m\u001b[0;34m,\u001b[0m \u001b[0;34m**\u001b[0m\u001b[0mcheck_params\u001b[0m\u001b[0;34m)\u001b[0m\u001b[0;34m\u001b[0m\u001b[0;34m\u001b[0m\u001b[0m\n\u001b[0m\u001b[1;32m    562\u001b[0m             \u001b[0mout\u001b[0m \u001b[0;34m=\u001b[0m \u001b[0mX\u001b[0m\u001b[0;34m\u001b[0m\u001b[0;34m\u001b[0m\u001b[0m\n\u001b[1;32m    563\u001b[0m         \u001b[0;32melif\u001b[0m \u001b[0mno_val_X\u001b[0m \u001b[0;32mand\u001b[0m \u001b[0;32mnot\u001b[0m \u001b[0mno_val_y\u001b[0m\u001b[0;34m:\u001b[0m\u001b[0;34m\u001b[0m\u001b[0;34m\u001b[0m\u001b[0m\n",
            "\u001b[0;32m/usr/local/lib/python3.7/dist-packages/sklearn/utils/validation.py\u001b[0m in \u001b[0;36mcheck_array\u001b[0;34m(array, accept_sparse, accept_large_sparse, dtype, order, copy, force_all_finite, ensure_2d, allow_nd, ensure_min_samples, ensure_min_features, estimator)\u001b[0m\n\u001b[1;32m    786\u001b[0m             raise ValueError(\n\u001b[1;32m    787\u001b[0m                 \u001b[0;34m\"Found array with dim %d. %s expected <= 2.\"\u001b[0m\u001b[0;34m\u001b[0m\u001b[0;34m\u001b[0m\u001b[0m\n\u001b[0;32m--> 788\u001b[0;31m                 \u001b[0;34m%\u001b[0m \u001b[0;34m(\u001b[0m\u001b[0marray\u001b[0m\u001b[0;34m.\u001b[0m\u001b[0mndim\u001b[0m\u001b[0;34m,\u001b[0m \u001b[0mestimator_name\u001b[0m\u001b[0;34m)\u001b[0m\u001b[0;34m\u001b[0m\u001b[0;34m\u001b[0m\u001b[0m\n\u001b[0m\u001b[1;32m    789\u001b[0m             )\n\u001b[1;32m    790\u001b[0m \u001b[0;34m\u001b[0m\u001b[0m\n",
            "\u001b[0;31mValueError\u001b[0m: Found array with dim 4. Estimator expected <= 2."
          ]
        }
      ]
    },
    {
      "cell_type": "code",
      "metadata": {
        "id": "f5pjO0wydBd4"
      },
      "source": [
        ""
      ],
      "execution_count": null,
      "outputs": []
    }
  ]
}